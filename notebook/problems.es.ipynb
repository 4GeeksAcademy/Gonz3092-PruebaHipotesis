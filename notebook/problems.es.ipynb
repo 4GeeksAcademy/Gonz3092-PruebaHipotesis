{
 "cells": [
  {
   "cell_type": "markdown",
   "id": "d9d036c6",
   "metadata": {},
   "source": [
    "# Problemas de prueba de hipótesis"
   ]
  },
  {
   "cell_type": "markdown",
   "id": "d157c4db",
   "metadata": {},
   "source": [
    "## Ejercicio 1\n",
    "\n",
    "Usted es un nutricionista que investiga dos tipos diferentes de dietas para ver si existe una diferencia significativa en la pérdida de peso después de un mes. Eliges dos grupos aleatorios de personas; un grupo sigue la primera dieta y el otro sigue la segunda. Al final del mes, se registra la pérdida de peso (en kg) de cada persona:\n",
    "\n",
    "| Diet 1 | Diet 2 |\n",
    "|:-------|:-------|\n",
    "| 2.0 | 3.0 |\n",
    "| 2.5 | 3.2 |\n",
    "| 3.0 | 3.1 |\n",
    "| 2.8 | 2.9 |\n",
    "| 2.3 | 2.8 |\n",
    "| 2.7 | 3.0 |\n",
    "| 2.5 | 3.2 |\n",
    "\n",
    "Con estos datos se busca responder a la siguiente pregunta: ¿Existe una diferencia significativa en la pérdida de peso promedio entre las personas que siguieron la primera dieta y las que siguieron la segunda dieta?\n",
    "\n",
    "Para sacar conclusiones, siga los siguientes puntos:\n",
    "\n",
    "-Enunciar la hipótesis: hipótesis nula y alternativa.\n",
    "-Realizar la prueba para comprobar la hipótesis. Puede utilizar la prueba t de Student.\n",
    "-Analizar las conclusiones."
   ]
  },
  {
   "cell_type": "code",
   "execution_count": 77,
   "id": "cd894462",
   "metadata": {},
   "outputs": [
    {
     "name": "stdout",
     "output_type": "stream",
     "text": [
      "   Diet1  Diet2\n",
      "0    2.0    3.0\n",
      "1    2.5    3.2\n",
      "2    3.0    3.1\n",
      "3    2.8    2.9\n",
      "4    2.3    2.8\n",
      "5    2.7    3.0\n",
      "6    2.5    3.2\n"
     ]
    }
   ],
   "source": [
    "import pandas as pd\n",
    "dietas = {'Diet1': [2.0, 2.5, 3.0, 2.8, 2.3, 2.7, 2.5],\n",
    "          'Diet2': [3.0, 3.2, 3.1, 2.9, 2.8, 3.0, 3.2]}\n",
    "dietas = pd.DataFrame(dietas)\n",
    "print (dietas)"
   ]
  },
  {
   "cell_type": "code",
   "execution_count": 78,
   "id": "cca7961c",
   "metadata": {},
   "outputs": [],
   "source": [
    "dieta1 = dietas[['Diet1']]\n",
    "dieta2 = dietas[['Diet2']]"
   ]
  },
  {
   "cell_type": "code",
   "execution_count": 79,
   "id": "0e321ae9",
   "metadata": {},
   "outputs": [],
   "source": [
    "# Planteo hipótesis\n",
    "H0_t = 'No hay una diferencia significativa en la perdida de peso para cada dieta'\n",
    "H1_t = 'Hay una diferencia significativa en la perdida de peso para cada dieta'"
   ]
  },
  {
   "cell_type": "code",
   "execution_count": 80,
   "id": "3d8e28fa",
   "metadata": {},
   "outputs": [
    {
     "name": "stdout",
     "output_type": "stream",
     "text": [
      "[-3.5383408] [0.00408327]\n"
     ]
    }
   ],
   "source": [
    "# Dos muestras T-Test\n",
    "from scipy.stats import ttest_ind\n",
    "\n",
    "t_stat, pvalue = ttest_ind (dieta1, dieta2)\n",
    "print (t_stat, pvalue)"
   ]
  },
  {
   "cell_type": "code",
   "execution_count": 81,
   "id": "d8e2b20e",
   "metadata": {},
   "outputs": [
    {
     "name": "stdout",
     "output_type": "stream",
     "text": [
      "Rechazo H0. Hay una diferencia significativa en la perdida de peso para cada dieta\n"
     ]
    }
   ],
   "source": [
    "# Conclusión\n",
    "\n",
    "if pvalue < 0.05:\n",
    "    print (f'Rechazo H0. {H1_t}')\n",
    "else: \n",
    "    print (f'Acepto H0. {H0_t}')"
   ]
  },
  {
   "cell_type": "markdown",
   "id": "f432e18e",
   "metadata": {},
   "source": [
    "## ANOVA\n",
    "\n",
    "**ANOVA** (*Analysis of Variance - Análisis de variación*) Es una técnica estadística utilizada para comparar las medidas de dos o más grupos. La idea detrás de ANOVA es descomponer la variabilidad total de los datos en dos componentes: variabilidad entre grupos y variabilidad dentro de los grupos:\n",
    "\n",
    "- **Variabilidad entre grupos**: Esta variabilidad se refiere a las diferencias entre las medias del grupo. Si esta variabilidad es considerablemente mayor que la variabilidad dentro del grupo, podría ser una indicación de que al menos una de las medias del grupo es diferente.\n",
    "- **Variabilidad dentro del grupo**: Esta variabilidad se refiere a la dispersión de los datos dentro de cada grupo. Si todos los grupos tienen una variabilidad similar, entonces cualquier diferencia notable en las medias de los grupos podría considerarse significativa.\n",
    "\n",
    "Las hipótesis en ANOVA suelen incluir:\n",
    "\n",
    "- **Hipótesis nula** ($H₀$): Las medias de todos los grupos son iguales.\n",
    "- **Hipótesis alternativa** ($H₁$): Al menos una de las medias del grupo es diferente.\n",
    "\n",
    "Si el resultado de la prueba ANOVA es significativo (por ejemplo, un valor p inferior a un umbral como 0,05), esto sugiere que al menos la media de un grupo es diferente."
   ]
  },
  {
   "cell_type": "markdown",
   "id": "fc5f3721",
   "metadata": {},
   "source": [
    "## Ejercicio 2\n",
    "\n",
    "Un agricultor decide probar tres tipos diferentes de fertilizantes para determinar si alguno es superior en términos de producción de maíz. El agricultor planta maíz en 15 parcelas idénticas y utiliza los tres fertilizantes (5 parcelas para cada tipo). Al final de la temporada mide el rendimiento de maíz (en kg) de cada parcela, con el siguiente resultado:\n",
    "\n",
    "| Fertilizante 1 | Fertilizante 2 | Fertilizante 3 |\n",
    "|:-------------|:-------------|:-------------|\n",
    "| 20 | 22 | 24 |\n",
    "| 21 | 21 | 23 |\n",
    "| 20 | 23 | 22 |\n",
    "| 19 | 22 | 23 |\n",
    "| 20 | 21 | 24 |\n",
    "\n",
    "Con estos datos busca responder la siguiente pregunta: ¿Existe una diferencia significativa en el rendimiento promedio del maíz entre los tres tipos de fertilizantes?\n",
    "\n",
    "Para ayudarte, sigue los siguientes puntos:\n",
    "\n",
    "-Enunciar la hipótesis: hipótesis nula y alternativa.\n",
    "-Realizar la prueba ANOVA.\n",
    "-Analizar las conclusiones.\n",
    "-Si un fertilizante es mejor que otro, ¿cómo podemos saberlo?"
   ]
  },
  {
   "cell_type": "code",
   "execution_count": 82,
   "id": "eecad0ca",
   "metadata": {},
   "outputs": [],
   "source": [
    "# Paso datos de fertilizantes\n",
    "f1 = [20, 21, 20, 19, 20]\n",
    "f2 = [22, 21, 23, 22, 21]\n",
    "f3 = [24, 23, 22, 23, 24]"
   ]
  },
  {
   "cell_type": "code",
   "execution_count": 83,
   "id": "5cb40dac",
   "metadata": {},
   "outputs": [],
   "source": [
    "# Planteo hipótesis\n",
    "\n",
    "H0_anova = 'No hay una diferencia significativa en el rendimiento de maiz de los fertilizantes'\n",
    "H1_anova = 'Hay una diferencia significativa en el rendimiento de maiz de los fertilizantes'"
   ]
  },
  {
   "cell_type": "code",
   "execution_count": 84,
   "id": "f1ea24ec",
   "metadata": {},
   "outputs": [
    {
     "name": "stdout",
     "output_type": "stream",
     "text": [
      "20.315789473684188 0.00014047824793190472\n"
     ]
    }
   ],
   "source": [
    "import scipy.stats as stats\n",
    "f_stat, pvalue2 = stats.f_oneway(f1, f2, f3)\n",
    "\n",
    "print(f_stat, pvalue2)\n"
   ]
  },
  {
   "cell_type": "code",
   "execution_count": 85,
   "id": "bde9b34b",
   "metadata": {},
   "outputs": [
    {
     "name": "stdout",
     "output_type": "stream",
     "text": [
      "Rechazo H0. Hay una diferencia significativa en el rendimiento de maiz de los fertilizantes\n"
     ]
    }
   ],
   "source": [
    "# Conclusión\n",
    "\n",
    "if pvalue2 < 0.05:\n",
    "    print (f'Rechazo H0. {H1_anova}')\n",
    "else: \n",
    "    print (f'Acepto H0. {H0_anova}')"
   ]
  },
  {
   "cell_type": "code",
   "execution_count": 86,
   "id": "abae7f1e",
   "metadata": {},
   "outputs": [
    {
     "name": "stdout",
     "output_type": "stream",
     "text": [
      "[20 21 20 19 20 22 21 23 22 21 24 23 22 23 24]\n"
     ]
    }
   ],
   "source": [
    "import numpy as np\n",
    "from statsmodels.stats.multicomp import pairwise_tukeyhsd\n",
    "\n",
    "data = np.concatenate([f1, f2, f3])\n",
    "print (data)\n"
   ]
  },
  {
   "cell_type": "code",
   "execution_count": 87,
   "id": "285dcad7",
   "metadata": {},
   "outputs": [
    {
     "name": "stdout",
     "output_type": "stream",
     "text": [
      "Multiple Comparison of Means - Tukey HSD, FWER=0.05\n",
      "==================================================\n",
      "group1 group2 meandiff p-adj  lower  upper  reject\n",
      "--------------------------------------------------\n",
      "    F1     F2      1.8 0.0099 0.4572 3.1428   True\n",
      "    F1     F3      3.2 0.0001 1.8572 4.5428   True\n",
      "    F2     F3      1.4 0.0409 0.0572 2.7428   True\n",
      "--------------------------------------------------\n"
     ]
    }
   ],
   "source": [
    "labels = [\"F1\"] * 5 + [\"F2\"] * 5 + [\"F3\"] * 5\n",
    "\n",
    "# Tukey test\n",
    "result = pairwise_tukeyhsd(data, labels, alpha = 0.05)\n",
    "print(result)"
   ]
  },
  {
   "cell_type": "markdown",
   "id": "7388861d",
   "metadata": {},
   "source": [
    "El tercer fertilizante es el de mejores resultados siendo las diferencias de medias entre todos los fertilizantes significativas\n"
   ]
  }
 ],
 "metadata": {
  "kernelspec": {
   "display_name": "Python 3",
   "language": "python",
   "name": "python3"
  },
  "language_info": {
   "codemirror_mode": {
    "name": "ipython",
    "version": 3
   },
   "file_extension": ".py",
   "mimetype": "text/x-python",
   "name": "python",
   "nbconvert_exporter": "python",
   "pygments_lexer": "ipython3",
   "version": "3.11.4"
  }
 },
 "nbformat": 4,
 "nbformat_minor": 5
}
